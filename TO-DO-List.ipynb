{
 "cells": [
  {
   "cell_type": "code",
   "execution_count": null,
   "id": "7b575d07-4ccd-4f58-8242-b372e8abd8b1",
   "metadata": {},
   "outputs": [
    {
     "name": "stdout",
     "output_type": "stream",
     "text": [
      "\n",
      "To-Do List Application\n",
      "1. Display To-Do List\n",
      "2. Add a Task\n",
      "3. Mark a Task as Completed\n",
      "4. Remove a Task\n",
      "5. Quit\n"
     ]
    },
    {
     "name": "stdin",
     "output_type": "stream",
     "text": [
      "Enter your choice (1-5):  1\n"
     ]
    },
    {
     "name": "stdout",
     "output_type": "stream",
     "text": [
      "Current To-Do List:\n",
      "\n",
      "To-Do List Application\n",
      "1. Display To-Do List\n",
      "2. Add a Task\n",
      "3. Mark a Task as Completed\n",
      "4. Remove a Task\n",
      "5. Quit\n"
     ]
    }
   ],
   "source": [
    "tasks = []\n",
    "\n",
    "def display_tasks():\n",
    "    print(\"Current To-Do List:\")\n",
    "    for i, task in enumerate(tasks):\n",
    "        status = \"Completed\" if task[1] else \"Pending\"\n",
    "        print(f\"{i+1}. {task[0]} - {status}\")\n",
    "\n",
    "def add_task():\n",
    "    task_name = input(\"Enter the task name: \")\n",
    "    tasks.append([task_name, False])\n",
    "    print(f\"Task '{task_name}' added to the list.\")\n",
    "\n",
    "def mark_completed():\n",
    "    display_tasks()\n",
    "    task_number = int(input(\"Enter the task number to mark as completed: \"))\n",
    "    if 1 <= task_number <= len(tasks):\n",
    "        tasks[task_number-1][1] = True\n",
    "        print(f\"Task '{tasks[task_number-1][0]}' marked as completed.\")\n",
    "    else:\n",
    "        print(\"Invalid task number.\")\n",
    "\n",
    "def remove_task():\n",
    "    display_tasks()\n",
    "    task_number = int(input(\"Enter the task number to remove: \"))\n",
    "    if 1 <= task_number <= len(tasks):\n",
    "        removed_task = tasks.pop(task_number-1)\n",
    "        print(f\"Task '{removed_task[0]}' removed from the list.\")\n",
    "    else:\n",
    "        print(\"Invalid task number.\")\n",
    "\n",
    "while True:\n",
    "    print(\"\\nTo-Do List Application\")\n",
    "    print(\"1. Display To-Do List\")\n",
    "    print(\"2. Add a Task\")\n",
    "    print(\"3. Mark a Task as Completed\")\n",
    "    print(\"4. Remove a Task\")\n",
    "    print(\"5. Quit\")\n",
    "\n",
    "    choice = input(\"Enter your choice (1-5): \")\n",
    "\n",
    "    if choice == '1':\n",
    "        display_tasks()\n",
    "    elif choice == '2':\n",
    "        add_task()\n",
    "    elif choice == '3':\n",
    "        mark_completed()\n",
    "    elif choice == '4':\n",
    "        remove_task()\n",
    "    elif choice == '5':\n",
    "        print(\"Exiting To-Do List Application...\")\n",
    "        break\n",
    "    else:\n",
    "        print(\"Invalid choice. Please try again.\")"
   ]
  },
  {
   "cell_type": "code",
   "execution_count": null,
   "id": "e1cdc7a4-386f-42e7-9bd6-f040e4e5babb",
   "metadata": {},
   "outputs": [],
   "source": []
  }
 ],
 "metadata": {
  "kernelspec": {
   "display_name": "Python 3 (ipykernel)",
   "language": "python",
   "name": "python3"
  },
  "language_info": {
   "codemirror_mode": {
    "name": "ipython",
    "version": 3
   },
   "file_extension": ".py",
   "mimetype": "text/x-python",
   "name": "python",
   "nbconvert_exporter": "python",
   "pygments_lexer": "ipython3",
   "version": "3.11.7"
  }
 },
 "nbformat": 4,
 "nbformat_minor": 5
}
